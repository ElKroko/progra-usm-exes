{
 "cells": [
  {
   "cell_type": "markdown",
   "metadata": {
    "slideshow": {
     "slide_type": "slide"
    }
   },
   "source": [
    "<img src=\"images/utfsm.png\" alt=\"\" width=\"200px\" align=\"right\"/>\n",
    "\n",
    "<br/>\n",
    "\n",
    "# IWI131 Programación\n",
    "Archivos<br/>\n",
    "Cristopher Arenas<br/>\n",
    "cristopher.arenas@usm.cl<br/>\n",
    "\n",
    "<br/>\n",
    "Paralelo 200<br/>\n",
    "Campus San Joaquin"
   ]
  },
  {
   "cell_type": "markdown",
   "metadata": {
    "collapsed": true,
    "slideshow": {
     "slide_type": "slide"
    }
   },
   "source": [
    "- Un **archivo** es una secuencia de datos almacenados en un **medio persistente**.\n",
    "- Los datos de un archivo siguen estando presentes una vez que termina el programa que lo ha creado.\n",
    "- Archivos pueden ser leídos por programas aún si estos no los han creado.\n",
    "- Nos enfocaremos en **archivos de texto**."
   ]
  },
  {
   "cell_type": "markdown",
   "metadata": {
    "slideshow": {
     "slide_type": "slide"
    }
   },
   "source": [
    "### 1. Lectura de Archivos"
   ]
  },
  {
   "cell_type": "markdown",
   "metadata": {
    "slideshow": {
     "slide_type": "fragment"
    }
   },
   "source": [
    "Pasos\n",
    "1. Abrir el archivo\n",
    "2. Lectura de datos\n",
    "3. Cerrar el archivo"
   ]
  },
  {
   "cell_type": "markdown",
   "metadata": {
    "slideshow": {
     "slide_type": "slide"
    }
   },
   "source": [
    "#### Abriendo un archivo"
   ]
  },
  {
   "cell_type": "markdown",
   "metadata": {
    "slideshow": {
     "slide_type": "fragment"
    }
   },
   "source": [
    "Un archivo puede ser abierto mediante la función `open`, que acepta como parámetros la dirección donde se encuentra el archivo."
   ]
  },
  {
   "cell_type": "markdown",
   "metadata": {
    "slideshow": {
     "slide_type": "fragment"
    }
   },
   "source": [
    "```Python\n",
    "archivo = open('nombre_archivo.txt')\n",
    "```"
   ]
  },
  {
   "cell_type": "markdown",
   "metadata": {
    "slideshow": {
     "slide_type": "slide"
    }
   },
   "source": [
    "#### Lectura de datos"
   ]
  },
  {
   "cell_type": "markdown",
   "metadata": {
    "slideshow": {
     "slide_type": "fragment"
    }
   },
   "source": [
    "Un **archivo** puede considerarse un tipo de dato **iterable**. Es decir, podemos recorrerlo con un **ciclo for**."
   ]
  },
  {
   "cell_type": "markdown",
   "metadata": {
    "slideshow": {
     "slide_type": "fragment"
    }
   },
   "source": [
    "```Python\n",
    "for l in archivo:\n",
    "    #operaciones con l\n",
    "    print l\n",
    "```"
   ]
  },
  {
   "cell_type": "markdown",
   "metadata": {
    "slideshow": {
     "slide_type": "fragment"
    }
   },
   "source": [
    "¿Qué valores tomará `l`?"
   ]
  },
  {
   "cell_type": "markdown",
   "metadata": {
    "slideshow": {
     "slide_type": "slide"
    }
   },
   "source": [
    "#### Cerrando un archivo"
   ]
  },
  {
   "cell_type": "markdown",
   "metadata": {
    "slideshow": {
     "slide_type": "fragment"
    }
   },
   "source": [
    "El último paso es cerrar el archivo luego de leer la información. Para ello se utiliza el método `close()`."
   ]
  },
  {
   "cell_type": "markdown",
   "metadata": {
    "slideshow": {
     "slide_type": "fragment"
    }
   },
   "source": [
    "```Python\n",
    "archivo.close()\n",
    "```"
   ]
  },
  {
   "cell_type": "markdown",
   "metadata": {
    "slideshow": {
     "slide_type": "slide"
    }
   },
   "source": [
    "El siguiente ejemplo muestra una lectura del archivo `quijote.txt`, que tiene las siguientes líneas:"
   ]
  },
  {
   "cell_type": "markdown",
   "metadata": {
    "slideshow": {
     "slide_type": "fragment"
    }
   },
   "source": [
    "`quijote.txt`\n",
    "```\n",
    "En un lugar de la Mancha\n",
    "de cuyo nombre no quiero acordarme\n",
    "no ha mucho tiempo que vivia un hidalgo\n",
    "```"
   ]
  },
  {
   "cell_type": "code",
   "execution_count": 1,
   "metadata": {
    "collapsed": false,
    "slideshow": {
     "slide_type": "fragment"
    }
   },
   "outputs": [
    {
     "name": "stdout",
     "output_type": "stream",
     "text": [
      "<open file 'quijote.txt', mode 'r' at 0x7f9fa049cb70>\n"
     ]
    }
   ],
   "source": [
    "#abriendo el archivo\n",
    "archivo = open(\"quijote.txt\")\n",
    "print archivo\n",
    "#cerrando el archivo\n",
    "archivo.close()"
   ]
  },
  {
   "cell_type": "code",
   "execution_count": 2,
   "metadata": {
    "collapsed": false,
    "slideshow": {
     "slide_type": "fragment"
    }
   },
   "outputs": [
    {
     "name": "stdout",
     "output_type": "stream",
     "text": [
      "En un lugar de la Mancha\n",
      "\n",
      "de cuyo nombre no quiero acordarme\n",
      "\n",
      "no ha mucho tiempo que vivia un hidalgo\n",
      "\n"
     ]
    }
   ],
   "source": [
    "archivo = open(\"quijote.txt\")\n",
    "for linea in archivo:\n",
    "    print linea\n",
    "archivo.close()"
   ]
  },
  {
   "cell_type": "code",
   "execution_count": 3,
   "metadata": {
    "collapsed": false,
    "slideshow": {
     "slide_type": "slide"
    }
   },
   "outputs": [
    {
     "name": "stdout",
     "output_type": "stream",
     "text": [
      "En un lugar de la Mancha\n",
      "de cuyo nombre no quiero acordarme\n",
      "no ha mucho tiempo que vivia un hidalgo\n"
     ]
    }
   ],
   "source": [
    "archivo = open(\"quijote.txt\")\n",
    "for linea in archivo:\n",
    "    print linea[:-1]\n",
    "archivo.close()"
   ]
  },
  {
   "cell_type": "code",
   "execution_count": 9,
   "metadata": {
    "collapsed": false,
    "slideshow": {
     "slide_type": "fragment"
    }
   },
   "outputs": [
    {
     "data": {
      "text/plain": [
       "'hidalgo\\n'"
      ]
     },
     "execution_count": 9,
     "metadata": {},
     "output_type": "execute_result"
    }
   ],
   "source": [
    "archivo = open(\"quijote.txt\")\n",
    "for linea in archivo:\n",
    "    a = linea.split(\" \")\n",
    "archivo.close()\n",
    "a[-1]"
   ]
  },
  {
   "cell_type": "code",
   "execution_count": 11,
   "metadata": {
    "collapsed": false,
    "slideshow": {
     "slide_type": "slide"
    }
   },
   "outputs": [
    {
     "name": "stdout",
     "output_type": "stream",
     "text": [
      "En un lugar de la Mancha\n",
      "25\n",
      "de cuyo nombre no quiero acordarme\n",
      "35\n",
      "no ha mucho tiempo que vivia un hidalgo\n",
      "40\n"
     ]
    }
   ],
   "source": [
    "archivo = open(\"quijote.txt\")\n",
    "for linea in archivo:\n",
    "    print linea,len(linea)\n",
    "archivo.close()"
   ]
  },
  {
   "cell_type": "markdown",
   "metadata": {
    "slideshow": {
     "slide_type": "fragment"
    }
   },
   "source": [
    "|E|n| |u|n| |l|u|g|a|r| |d|e| |l|a| |M|a|n|c|h|a|\\n|\n",
    "|-|-|-|-|-|-|-|-|-|-|-|-|-|-|-|-|-|-|-|-|-|-|-|-|-|\n",
    "|1|2|3|4|5|6|7|8|9|10|11|12|13|14|15|16|17|18|19|20|21|22|23|24|25|\n"
   ]
  },
  {
   "cell_type": "markdown",
   "metadata": {
    "slideshow": {
     "slide_type": "fragment"
    }
   },
   "source": [
    "¿Qué podemos hacer con el salto de línea?"
   ]
  },
  {
   "cell_type": "markdown",
   "metadata": {
    "slideshow": {
     "slide_type": "slide"
    }
   },
   "source": [
    "Para eliminar **espacios** y **saltos de línea** podemos usar el método `strip()`"
   ]
  },
  {
   "cell_type": "code",
   "execution_count": 12,
   "metadata": {
    "collapsed": true,
    "slideshow": {
     "slide_type": "fragment"
    }
   },
   "outputs": [],
   "source": [
    "p = \"hola\".center(30)+\"\\n\""
   ]
  },
  {
   "cell_type": "code",
   "execution_count": 13,
   "metadata": {
    "collapsed": false,
    "slideshow": {
     "slide_type": "fragment"
    }
   },
   "outputs": [
    {
     "data": {
      "text/plain": [
       "'             hola             \\n'"
      ]
     },
     "execution_count": 13,
     "metadata": {},
     "output_type": "execute_result"
    }
   ],
   "source": [
    "p"
   ]
  },
  {
   "cell_type": "code",
   "execution_count": 14,
   "metadata": {
    "collapsed": false,
    "slideshow": {
     "slide_type": "fragment"
    }
   },
   "outputs": [
    {
     "data": {
      "text/plain": [
       "'hola'"
      ]
     },
     "execution_count": 14,
     "metadata": {},
     "output_type": "execute_result"
    }
   ],
   "source": [
    "p.strip()"
   ]
  },
  {
   "cell_type": "code",
   "execution_count": 15,
   "metadata": {
    "collapsed": false,
    "slideshow": {
     "slide_type": "fragment"
    }
   },
   "outputs": [
    {
     "data": {
      "text/plain": [
       "'             hola             \\n'"
      ]
     },
     "execution_count": 15,
     "metadata": {},
     "output_type": "execute_result"
    }
   ],
   "source": [
    "p"
   ]
  },
  {
   "cell_type": "code",
   "execution_count": 16,
   "metadata": {
    "collapsed": false,
    "slideshow": {
     "slide_type": "slide"
    }
   },
   "outputs": [
    {
     "name": "stdout",
     "output_type": "stream",
     "text": [
      "25 24\n",
      "35 34\n",
      "40 39\n"
     ]
    }
   ],
   "source": [
    "archivo = open(\"quijote.txt\")\n",
    "for linea in archivo:\n",
    "    print len(linea),len(linea.strip())\n",
    "archivo.close()"
   ]
  },
  {
   "cell_type": "markdown",
   "metadata": {
    "slideshow": {
     "slide_type": "slide"
    }
   },
   "source": [
    "Otros ejemplos con `strip()`"
   ]
  },
  {
   "cell_type": "code",
   "execution_count": 17,
   "metadata": {
    "collapsed": false,
    "slideshow": {
     "slide_type": "fragment"
    }
   },
   "outputs": [
    {
     "data": {
      "text/plain": [
       "'hola mund'"
      ]
     },
     "execution_count": 17,
     "metadata": {},
     "output_type": "execute_result"
    }
   ],
   "source": [
    "\"ohola mundo\".strip(\"o\")"
   ]
  },
  {
   "cell_type": "code",
   "execution_count": 19,
   "metadata": {
    "collapsed": false,
    "slideshow": {
     "slide_type": "fragment"
    }
   },
   "outputs": [
    {
     "data": {
      "text/plain": [
       "'oholaumundo'"
      ]
     },
     "execution_count": 19,
     "metadata": {},
     "output_type": "execute_result"
    }
   ],
   "source": [
    "\"oholaumundo\".strip(\"u\")"
   ]
  },
  {
   "cell_type": "code",
   "execution_count": 20,
   "metadata": {
    "collapsed": false,
    "slideshow": {
     "slide_type": "fragment"
    }
   },
   "outputs": [
    {
     "data": {
      "text/plain": [
       "'hola      mundo'"
      ]
     },
     "execution_count": 20,
     "metadata": {},
     "output_type": "execute_result"
    }
   ],
   "source": [
    "\"hola      mundo\".strip()"
   ]
  },
  {
   "cell_type": "code",
   "execution_count": 21,
   "metadata": {
    "collapsed": false,
    "slideshow": {
     "slide_type": "slide"
    }
   },
   "outputs": [
    {
     "data": {
      "text/plain": [
       "'ohla      mundo'"
      ]
     },
     "execution_count": 21,
     "metadata": {},
     "output_type": "execute_result"
    }
   ],
   "source": [
    "\"hhhhhohla      mundo\".strip(\"h\")"
   ]
  },
  {
   "cell_type": "code",
   "execution_count": 22,
   "metadata": {
    "collapsed": false,
    "slideshow": {
     "slide_type": "fragment"
    }
   },
   "outputs": [
    {
     "data": {
      "text/plain": [
       "'hola mundo'"
      ]
     },
     "execution_count": 22,
     "metadata": {},
     "output_type": "execute_result"
    }
   ],
   "source": [
    "\"hola mundo \".strip(\" \")"
   ]
  },
  {
   "cell_type": "code",
   "execution_count": 23,
   "metadata": {
    "collapsed": false,
    "slideshow": {
     "slide_type": "fragment"
    }
   },
   "outputs": [
    {
     "data": {
      "text/plain": [
       "'hola mundo'"
      ]
     },
     "execution_count": 23,
     "metadata": {},
     "output_type": "execute_result"
    }
   ],
   "source": [
    "\"hola mundo \".strip(\"  \")"
   ]
  },
  {
   "cell_type": "code",
   "execution_count": 24,
   "metadata": {
    "collapsed": false,
    "slideshow": {
     "slide_type": "fragment"
    }
   },
   "outputs": [
    {
     "data": {
      "text/plain": [
       "'hola mundo'"
      ]
     },
     "execution_count": 24,
     "metadata": {},
     "output_type": "execute_result"
    }
   ],
   "source": [
    "\"hola mundo       \".strip(\" \")"
   ]
  },
  {
   "cell_type": "markdown",
   "metadata": {
    "slideshow": {
     "slide_type": "slide"
    }
   },
   "source": [
    "### 2. Escritura de Archivos"
   ]
  },
  {
   "cell_type": "markdown",
   "metadata": {
    "slideshow": {
     "slide_type": "fragment"
    }
   },
   "source": [
    "Pasos:\n",
    "1. Abrir archivo en modo escritura\n",
    "2. Escribir datos\n",
    "3. Cerrar archivo"
   ]
  },
  {
   "cell_type": "markdown",
   "metadata": {
    "slideshow": {
     "slide_type": "slide"
    }
   },
   "source": [
    "#### Abriendo un archivo en modo escritura"
   ]
  },
  {
   "cell_type": "markdown",
   "metadata": {
    "slideshow": {
     "slide_type": "fragment"
    }
   },
   "source": [
    "Para escribir un archivo, este debe abrirse en modo escritura usando la función `open` con un parámetro adicional:"
   ]
  },
  {
   "cell_type": "markdown",
   "metadata": {
    "slideshow": {
     "slide_type": "fragment"
    }
   },
   "source": [
    "```Python\n",
    "archivo = open(\"nombre_archivo.txt\",\"w\")\n",
    "```"
   ]
  },
  {
   "cell_type": "markdown",
   "metadata": {
    "slideshow": {
     "slide_type": "slide"
    }
   },
   "source": [
    "#### Escritura de datos"
   ]
  },
  {
   "cell_type": "markdown",
   "metadata": {
    "slideshow": {
     "slide_type": "fragment"
    }
   },
   "source": [
    "Se utilizará el método `write`, que recibe como parámetro un **string** con el texto que se escribirá en el archivo."
   ]
  },
  {
   "cell_type": "markdown",
   "metadata": {
    "slideshow": {
     "slide_type": "fragment"
    }
   },
   "source": [
    "```Python\n",
    "archivo.write(\"Informacion importante\")\n",
    "```"
   ]
  },
  {
   "cell_type": "markdown",
   "metadata": {
    "slideshow": {
     "slide_type": "slide"
    }
   },
   "source": [
    "#### Cerrando el archivo"
   ]
  },
  {
   "cell_type": "markdown",
   "metadata": {
    "slideshow": {
     "slide_type": "fragment"
    }
   },
   "source": [
    "Después de escribir la información, el archivo se cierra. **Importante:** Siempre debe cerrarse un archivo después de leer o escribir en él."
   ]
  },
  {
   "cell_type": "markdown",
   "metadata": {
    "slideshow": {
     "slide_type": "fragment"
    }
   },
   "source": [
    "```Python\n",
    "archivo.close()\n",
    "```"
   ]
  },
  {
   "cell_type": "markdown",
   "metadata": {
    "slideshow": {
     "slide_type": "fragment"
    }
   },
   "source": [
    "El siguiente ejemplo escribe dos líneas del himno de Chile."
   ]
  },
  {
   "cell_type": "code",
   "execution_count": 26,
   "metadata": {
    "collapsed": true,
    "slideshow": {
     "slide_type": "slide"
    }
   },
   "outputs": [],
   "source": [
    "archivo = open(\"himno.txt\",\"w\")\n",
    "archivo.write(\"Puro Chile\")\n",
    "archivo.write(\"es tu cielo azulado\")\n",
    "archivo.close()"
   ]
  },
  {
   "cell_type": "code",
   "execution_count": 27,
   "metadata": {
    "collapsed": true,
    "slideshow": {
     "slide_type": "fragment"
    }
   },
   "outputs": [],
   "source": [
    "archivo = open(\"himno.txt\",\"w\")\n",
    "archivo.write(\"Puro Chile\\n\")\n",
    "archivo.write(\"es tu cielo azulado\\n\")\n",
    "archivo.close()"
   ]
  },
  {
   "cell_type": "markdown",
   "metadata": {
    "slideshow": {
     "slide_type": "slide"
    }
   },
   "source": [
    "### 3. Agregar texto a un archivo existente"
   ]
  },
  {
   "cell_type": "markdown",
   "metadata": {
    "slideshow": {
     "slide_type": "fragment"
    }
   },
   "source": [
    "#### Abriendo un archivo en modo _append_"
   ]
  },
  {
   "cell_type": "markdown",
   "metadata": {
    "slideshow": {
     "slide_type": "fragment"
    }
   },
   "source": [
    "Para escribir un archivo, este debe abrirse en modo escritura usando la función `open` con un parámetro adicional:"
   ]
  },
  {
   "cell_type": "markdown",
   "metadata": {
    "slideshow": {
     "slide_type": "fragment"
    }
   },
   "source": [
    "```Python\n",
    "archivo = open(\"nombre_archivo.txt\",\"a\")\n",
    "```"
   ]
  },
  {
   "cell_type": "markdown",
   "metadata": {
    "slideshow": {
     "slide_type": "slide"
    }
   },
   "source": [
    "#### Escritura de datos"
   ]
  },
  {
   "cell_type": "markdown",
   "metadata": {
    "slideshow": {
     "slide_type": "fragment"
    }
   },
   "source": [
    "Se utilizará el método `write`, que recibe como parámetro un **string** con el texto que se escribirá en el archivo."
   ]
  },
  {
   "cell_type": "markdown",
   "metadata": {
    "slideshow": {
     "slide_type": "fragment"
    }
   },
   "source": [
    "```Python\n",
    "archivo.write(\"Informacion importante\")\n",
    "```"
   ]
  },
  {
   "cell_type": "markdown",
   "metadata": {
    "slideshow": {
     "slide_type": "slide"
    }
   },
   "source": [
    "#### Cerrando el archivo"
   ]
  },
  {
   "cell_type": "markdown",
   "metadata": {
    "slideshow": {
     "slide_type": "fragment"
    }
   },
   "source": [
    "Después de escribir la información, el archivo se cierra. **Importante:** Siempre debe cerrarse un archivo después de leer o escribir en él."
   ]
  },
  {
   "cell_type": "markdown",
   "metadata": {
    "slideshow": {
     "slide_type": "fragment"
    }
   },
   "source": [
    "```Python\n",
    "archivo.close()\n",
    "```"
   ]
  },
  {
   "cell_type": "code",
   "execution_count": 30,
   "metadata": {
    "collapsed": true,
    "slideshow": {
     "slide_type": "slide"
    }
   },
   "outputs": [],
   "source": [
    "archivo = open(\"himno.txt\",\"a\")\n",
    "archivo.write(\"puras brizas\\n\")\n",
    "archivo.write(\"te cruzan tambien.\\n\")\n",
    "archivo.close()"
   ]
  },
  {
   "cell_type": "markdown",
   "metadata": {
    "slideshow": {
     "slide_type": "slide"
    }
   },
   "source": [
    "### Sobre la función `open`"
   ]
  },
  {
   "cell_type": "markdown",
   "metadata": {
    "slideshow": {
     "slide_type": "fragment"
    }
   },
   "source": [
    "|Modo|Sintaxis|Archivo Existe|Archivo no existe|\n",
    "|-|-|-|\n",
    "|Lectura|`open(\"archivo.txt\")` <br> `open(\"archivo.txt\",\"r\")`|Abre `archivo.txt` para lectura.|Ocurre un error:`IOError`|\n",
    "|Escritura|`open(\"archivo.txt\",\"w\")`|Se borra todo el contenido existente. El texto agregado se escribirá al inicio del archivo.|Se crea un archivo vacío. El texto agregado se escribirá al inicio del archivo.|\n",
    "|_Append_|`open(\"archivo.txt\",\"a\")`|El texto agregado se escribirá al final del archivo.|Se crea un archivo vacío. El texto agregado se escribirá al inicio del archivo.|"
   ]
  },
  {
   "cell_type": "markdown",
   "metadata": {
    "collapsed": true,
    "slideshow": {
     "slide_type": "slide"
    }
   },
   "source": [
    "### Archivos de valores con separadores"
   ]
  },
  {
   "cell_type": "markdown",
   "metadata": {
    "slideshow": {
     "slide_type": "fragment"
    }
   },
   "source": [
    "- Es una manera usual de almacenar datos estructurados en un archivo.\n",
    "- Ejemplo: Archivos CSV Comma-Separated Values"
   ]
  },
  {
   "cell_type": "markdown",
   "metadata": {
    "slideshow": {
     "slide_type": "fragment"
    }
   },
   "source": [
    "**Ejemplo:** tenemos una tabla con los siguientes datos:\n",
    "\n",
    "|Nombre|Apellido|Edad|Saldo|\n",
    "|-|-|-|-|\n",
    "|Juan|Perez|25|5000|\n",
    "|Fulana|De Tal|30|3500|\n",
    "|Perico|Los Palotes|27|27500|"
   ]
  },
  {
   "cell_type": "markdown",
   "metadata": {
    "slideshow": {
     "slide_type": "fragment"
    }
   },
   "source": [
    "Estos datos pueden almacenarse de manera estructurada en un archivo de texto llamado `archivo.csv`:\n",
    "```\n",
    "Juan,Perez,25,5000\n",
    "Fulana,De Tal,30,3500\n",
    "Perico,Los Palotes,27,27500\n",
    "```"
   ]
  },
  {
   "cell_type": "markdown",
   "metadata": {
    "slideshow": {
     "slide_type": "fragment"
    }
   },
   "source": [
    "- ¿Cómo podemos guardar información de manera estructurada en un archivo?\n",
    "- ¿Cómo podemos leer información estructurada desde un archivo?"
   ]
  },
  {
   "cell_type": "markdown",
   "metadata": {
    "slideshow": {
     "slide_type": "slide"
    }
   },
   "source": [
    "#### Guardar información estructurada en un archivo\n",
    "Pasos:\n",
    "1. Convertir datos a string\n",
    "2. Generar una línea del archivo con alguna estructura (separador).\n",
    "3. Agregar salto de linea\n",
    "4. Escribir información estructurada en el archivo"
   ]
  },
  {
   "cell_type": "markdown",
   "metadata": {
    "slideshow": {
     "slide_type": "slide"
    }
   },
   "source": [
    "**Opción 1**"
   ]
  },
  {
   "cell_type": "code",
   "execution_count": 31,
   "metadata": {
    "collapsed": true,
    "slideshow": {
     "slide_type": "fragment"
    }
   },
   "outputs": [],
   "source": [
    "#abrir el archivo para escribir\n",
    "archivo = open(\"datos.csv\",\"w\")\n",
    "\n",
    "#escribir informacion en el archivo\n",
    "archivo.write(\"Juan,Perez,25,5000\\n\")\n",
    "archivo.write(\"Fulana,De Tal,30,3500\\n\")\n",
    "archivo.write(\"Perico,Los Palotes,27,27500\\n\")\n",
    "\n",
    "#cerrar el archivo\n",
    "archivo.close()"
   ]
  },
  {
   "cell_type": "markdown",
   "metadata": {
    "slideshow": {
     "slide_type": "slide"
    }
   },
   "source": [
    "**Opción 2**"
   ]
  },
  {
   "cell_type": "code",
   "execution_count": 32,
   "metadata": {
    "collapsed": true,
    "slideshow": {
     "slide_type": "fragment"
    }
   },
   "outputs": [],
   "source": [
    "#abrir el archivo para escribir\n",
    "archivo = open(\"datos.csv\",\"w\")\n",
    "\n",
    "\n",
    "#escribir informacion en el archivo\n",
    "archivo.write(\",\".join([\"Juan\",\"Perez\",\"25\",\"5000\"])+\"\\n\")\n",
    "archivo.write(\",\".join([\"Fulana\",\"De Tal\",\"30\",\"3500\"])+\"\\n\")\n",
    "archivo.write(\",\".join([\"Perico\",\"Los Palotes\",\"27\",\"27500\"])+\"\\n\")\n",
    "\n",
    "#cerrar el archivo\n",
    "archivo.close()"
   ]
  },
  {
   "cell_type": "markdown",
   "metadata": {
    "slideshow": {
     "slide_type": "slide"
    }
   },
   "source": [
    "**Opción 3**"
   ]
  },
  {
   "cell_type": "code",
   "execution_count": 33,
   "metadata": {
    "collapsed": true,
    "slideshow": {
     "slide_type": "slide"
    }
   },
   "outputs": [],
   "source": [
    "#abrir el archivo para escribir\n",
    "archivo = open(\"datos.csv\",\"w\")\n",
    "\n",
    "#generar una plantilla estructurada para la informacion\n",
    "plantilla = \"{0},{1},{2},{3}\\n\"\n",
    "\n",
    "#escribir informacion en el archivo\n",
    "archivo.write(plantilla.format(\"Juan\",\"Perez\",\"25\",\"5000\"))\n",
    "archivo.write(plantilla.format(\"Fulana\",\"De Tal\",\"30\",\"3500\"))\n",
    "archivo.write(plantilla.format(\"Perico\",\"Los Palotes\",\"27\",\"27500\"))\n",
    "\n",
    "#cerrar el archivo\n",
    "archivo.close()"
   ]
  },
  {
   "cell_type": "markdown",
   "metadata": {},
   "source": [
    "#### Leer información estructurada desde un archivo\n",
    "Pasos:\n",
    "1. Leer líneas desde un archivo.\n",
    "2. Eliminar caracteres especiales.\n",
    "3. Separar información estructurada por algún separador.\n",
    "4. Obtener información de interés."
   ]
  },
  {
   "cell_type": "code",
   "execution_count": 36,
   "metadata": {
    "collapsed": false
   },
   "outputs": [
    {
     "name": "stdout",
     "output_type": "stream",
     "text": [
      "27.33\n"
     ]
    }
   ],
   "source": [
    "lista = []\n",
    "#abrir archivo en modo lectura\n",
    "archivo = open(\"datos.csv\")\n",
    "\n",
    "#leer lineas del archivo\n",
    "for linea in archivo:\n",
    "    #eliminar caracteres especiales\n",
    "    linea = linea.strip()\n",
    "    \n",
    "    #separar informacion estructurada\n",
    "    data = linea.split(\",\")\n",
    "    \n",
    "    #obtener informacion de interes\n",
    "    edad = data[2]\n",
    "    lista.append(int(edad))\n",
    "    \n",
    "#cerrar el archivo\n",
    "archivo.close()\n",
    "\n",
    "#mostrar informacion de interes\n",
    "print round(float(sum(lista))/len(lista),2)\n"
   ]
  },
  {
   "cell_type": "markdown",
   "metadata": {},
   "source": [
    "### Ejercicio 1\n",
    "Considerar la siguiente información de algunos alumnos:\n",
    "\n",
    "|Nombre|Apellido|Nota 1|Nota 2|Nota 3|\n",
    "|-|-|-|-|-|\n",
    "|Esteban|Gutierrez|49|18|32|\n",
    "|Luisa|Miranda|68|44|99|\n",
    "|Jean Paul|Munoz|48|38|81|\n",
    "|Gianfranco|Basso|54|54|50|\n",
    "|Romina|Smith|100|98|92|"
   ]
  },
  {
   "cell_type": "markdown",
   "metadata": {},
   "source": [
    "1. Escriba un programa en Python que cree el archivo `alumnos.txt` con la información de la tabla. Cada línea del archivo deberá estar en el formato:\n",
    "`nombre:apellido:n1:n2:n3`\n",
    "2. Escriba un programa en Python que a partir del archivo `alumnos.txt` anterior, genere los archivos:"
   ]
  },
  {
   "cell_type": "markdown",
   "metadata": {},
   "source": [
    "`aprobados.txt`\n",
    "```\n",
    "Luisa,Miranda,70\n",
    "Jean Paul,Munoz,56\n",
    "Romina,Smith,97\n",
    "```"
   ]
  },
  {
   "cell_type": "markdown",
   "metadata": {},
   "source": [
    "`reprobados.txt`\n",
    "```\n",
    "Esteban,Gutierrez,33\n",
    "Gianfranco,Basso,53\n",
    "```"
   ]
  },
  {
   "cell_type": "code",
   "execution_count": null,
   "metadata": {
    "collapsed": true
   },
   "outputs": [],
   "source": [
    "archivo = open(\"alumnos.txt\",\"w\")\n",
    "plantilla = \"{0}:{1}:{2}:{3}:{4}\\n\"\n",
    "archivo.write(plantilla.format(\"Esteban\",\"Gutierrez\",\"49\",\"18\",\"32\"))\n",
    "archivo.write(plantilla.format(\"Luisa\",\"Miranda\",\"68\",\"44\",\"99\"))\n",
    "archivo.write(plantilla.format(\"Jean Paul\",\"Munoz\",\"48\",\"38\",\"81\"))\n",
    "archivo.write(plantilla.format(\"Gianfranco\",\"Basso\",\"54\",\"54\",\"50\"))\n",
    "archivo.write(plantilla.format(\"Romina\",\"Smith\",\"100\",\"98\",\"92\"))\n",
    "archivo.close()"
   ]
  },
  {
   "cell_type": "code",
   "execution_count": null,
   "metadata": {
    "collapsed": true
   },
   "outputs": [],
   "source": [
    "aprobados = open(\"aprobados.txt\",\"w\")\n",
    "reprobados = open(\"reprobados.txt\",\"w\")\n",
    "\n",
    "archivo = open(\"alumnos.txt\")\n",
    "\n",
    "for linea in archivo:\n",
    "    data = linea.strip().split(\":\")\n",
    "    linea = map(float,data[2:])\n",
    "    prom = int(round(sum(linea)/len(linea)))\n",
    "    if prom >=55:\n",
    "        aprobados.write(data[0]+\",\"+data[1]+\",\"+str(prom)+\"\\n\")\n",
    "    else:\n",
    "        reprobados.write(data[0]+\",\"+data[1]+\",\"+str(prom)+\"\\n\")\n",
    "archivo.close()\n",
    "\n",
    "aprobados.close()\n",
    "reprobados.close()"
   ]
  },
  {
   "cell_type": "code",
   "execution_count": null,
   "metadata": {
    "collapsed": true,
    "slideshow": {
     "slide_type": "skip"
    }
   },
   "outputs": [],
   "source": []
  }
 ],
 "metadata": {
  "anaconda-cloud": {},
  "celltoolbar": "Slideshow",
  "kernelspec": {
   "display_name": "Python 2",
   "language": "python",
   "name": "python2"
  },
  "language_info": {
   "codemirror_mode": {
    "name": "ipython",
    "version": 2
   },
   "file_extension": ".py",
   "mimetype": "text/x-python",
   "name": "python",
   "nbconvert_exporter": "python",
   "pygments_lexer": "ipython2",
   "version": "2.7.6"
  }
 },
 "nbformat": 4,
 "nbformat_minor": 1
}
